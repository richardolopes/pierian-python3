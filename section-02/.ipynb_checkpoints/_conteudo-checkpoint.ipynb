{
 "cells": [
  {
   "cell_type": "markdown",
   "metadata": {},
   "source": [
    "# Arquivos\n",
    "\n",
    "## Aula 7 - Notebooks\n",
    "#### Funções utilizadas: print(), help()\n",
    "- Comentários (#, ''')\n",
    "- Atalhos do jupyter (Shift/Alt + Enter, Shift + Tab)\n",
    "\n",
    "## Aula 10 - Números\n",
    "#### Funções utilizadas: round()\n",
    "- Tipos de números\n",
    "- Aritmética básica\n",
    "- Definições e atribuições de váriaveis\n",
    "- Arredondamento"
   ]
  }
 ],
 "metadata": {
  "kernelspec": {
   "display_name": "Python 3",
   "language": "python",
   "name": "python3"
  },
  "language_info": {
   "codemirror_mode": {
    "name": "ipython",
    "version": 3
   },
   "file_extension": ".py",
   "mimetype": "text/x-python",
   "name": "python",
   "nbconvert_exporter": "python",
   "pygments_lexer": "ipython3",
   "version": "3.7.3"
  }
 },
 "nbformat": 4,
 "nbformat_minor": 2
}
