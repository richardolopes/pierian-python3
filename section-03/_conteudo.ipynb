{
 "cells": [
  {
   "cell_type": "markdown",
   "metadata": {},
   "source": [
    "# Arquivos\n",
    "\n",
    "## Aula 11 - Strings\n",
    "#### Funções utilizadas: print(), len(), type()\n",
    "- Aspas simples e duplas\n",
    "- Escapes (\\n, \\t)\n",
    "- Concatenação\n",
    "- Métodos para manipulações de Strings (lower(), split())\n",
    "\n",
    "## Aula 13 - Formatações de impressões\n",
    "#### Funções utilizadas: print()\n",
    "- Apresentar variáveis no print (%s, %r, {}, https://pyformat.info/, .format())\n",
    "\n",
    "## Aula 15 - Listas\n",
    "#### Funções utilizadas: print(), type(), len()\n",
    "- Índices e cortes de listas\n",
    "- Métodos para manipulações de listas (append, pop, reverse, sort)\n",
    "- Listas aninhadas\n",
    "- "
   ]
  }
 ],
 "metadata": {
  "kernelspec": {
   "display_name": "Python 3",
   "language": "python",
   "name": "python3"
  },
  "language_info": {
   "codemirror_mode": {
    "name": "ipython",
    "version": 3
   },
   "file_extension": ".py",
   "mimetype": "text/x-python",
   "name": "python",
   "nbconvert_exporter": "python",
   "pygments_lexer": "ipython3",
   "version": "3.7.3"
  }
 },
 "nbformat": 4,
 "nbformat_minor": 2
}
