{
 "cells": [
  {
   "cell_type": "markdown",
   "metadata": {},
   "source": [
    "# Aula 13 - Formatações de impressões"
   ]
  },
  {
   "cell_type": "markdown",
   "metadata": {},
   "source": [
    "## Apresentar variáveis no print()"
   ]
  },
  {
   "cell_type": "markdown",
   "metadata": {},
   "source": [
    "### Antigo\n",
    "- %s = str()\n",
    "- %r = repr()"
   ]
  },
  {
   "cell_type": "code",
   "execution_count": 1,
   "metadata": {},
   "outputs": [],
   "source": [
    "var = 'Richard'"
   ]
  },
  {
   "cell_type": "code",
   "execution_count": 2,
   "metadata": {},
   "outputs": [
    {
     "name": "stdout",
     "output_type": "stream",
     "text": [
      "Olá Richard, tudo bem? Richard?\n"
     ]
    }
   ],
   "source": [
    "print(\"Olá %s, tudo bem? %s?\" %(var, var))"
   ]
  },
  {
   "cell_type": "code",
   "execution_count": 3,
   "metadata": {},
   "outputs": [
    {
     "name": "stdout",
     "output_type": "stream",
     "text": [
      "Olá Richard, tudo bem?\n"
     ]
    }
   ],
   "source": [
    "print(\"Olá \" + var + \", tudo bem?\")"
   ]
  },
  {
   "cell_type": "code",
   "execution_count": 4,
   "metadata": {},
   "outputs": [
    {
     "name": "stdout",
     "output_type": "stream",
     "text": [
      "Pontos flutuantes:    23.34400\n"
     ]
    }
   ],
   "source": [
    "print(\"Pontos flutuantes: %11.5f\" %(23.344))"
   ]
  },
  {
   "cell_type": "code",
   "execution_count": 5,
   "metadata": {},
   "outputs": [
    {
     "name": "stdout",
     "output_type": "stream",
     "text": [
      "O preço de um iPhone X é 5559\n"
     ]
    }
   ],
   "source": [
    "print(\"O preço de um iPhone X é %d\" %(5559.99))"
   ]
  },
  {
   "cell_type": "markdown",
   "metadata": {},
   "source": [
    "### Novo\n",
    "- .format()"
   ]
  },
  {
   "cell_type": "code",
   "execution_count": 6,
   "metadata": {},
   "outputs": [
    {
     "name": "stdout",
     "output_type": "stream",
     "text": [
      "Olá Richard, tudo bem?\n"
     ]
    }
   ],
   "source": [
    "print(\"Olá {}, tudo bem?\" .format(\"Richard\"))"
   ]
  },
  {
   "cell_type": "code",
   "execution_count": 7,
   "metadata": {},
   "outputs": [
    {
     "name": "stdout",
     "output_type": "stream",
     "text": [
      "O preço de um celular com suporte a 4 chips e um som mais alto que de uma JBL é 123.5\n"
     ]
    }
   ],
   "source": [
    "print(\"O preço de um celular com suporte a 4 chips e um som mais alto que de uma JBL é {}\" .format(123.5))"
   ]
  },
  {
   "cell_type": "code",
   "execution_count": 8,
   "metadata": {},
   "outputs": [],
   "source": [
    "a1 = \"Um: {a}, dois: {b}, três: {c}\".format(a = 1, b = \"dois\", c = 3.5)"
   ]
  },
  {
   "cell_type": "code",
   "execution_count": 9,
   "metadata": {},
   "outputs": [
    {
     "name": "stdout",
     "output_type": "stream",
     "text": [
      "Um: 1, dois: dois, três: 3.5\n"
     ]
    }
   ],
   "source": [
    "print(a1)"
   ]
  }
 ],
 "metadata": {
  "kernelspec": {
   "display_name": "Python 3",
   "language": "python",
   "name": "python3"
  },
  "language_info": {
   "codemirror_mode": {
    "name": "ipython",
    "version": 3
   },
   "file_extension": ".py",
   "mimetype": "text/x-python",
   "name": "python",
   "nbconvert_exporter": "python",
   "pygments_lexer": "ipython3",
   "version": "3.7.3"
  }
 },
 "nbformat": 4,
 "nbformat_minor": 2
}
